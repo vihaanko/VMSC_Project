{
 "cells": [
  {
   "cell_type": "code",
   "execution_count": 6,
   "metadata": {
    "vscode": {
     "languageId": "ruby"
    }
   },
   "outputs": [
    {
     "name": "stdout",
     "output_type": "stream",
     "text": [
      "   login_date  num_logins\n",
      "0  2024-01-01          15\n",
      "1  2024-01-02          28\n",
      "2  2024-01-03          23\n",
      "3  2024-01-04          35\n",
      "4  2024-01-05          40\n",
      "   event_date                      event_name  attendance event_type\n",
      "0  2022-09-13                     Career Fair          69     Career\n",
      "1  2022-09-15                       Headshots          20     Career\n",
      "2  2022-09-16                       Headshots          20     Career\n",
      "3  2022-10-27                 Resume Workshop           5     Career\n",
      "4  2022-11-05  Military Appreciation Tailgate          42     Social\n",
      "   Unnamed: 0                          company business_sector_1  \\\n",
      "0           0                           Wabash          Trucking   \n",
      "1           1                  Lockheed Martin         Aerospace   \n",
      "2           2  Scientific Research Corporation       Engineering   \n",
      "3           6                      Caterpillar       Engineering   \n",
      "4           7                         Parallax          Software   \n",
      "\n",
      "  business_sector_2  \n",
      "0     Manufacturing  \n",
      "1           Defense  \n",
      "2     Cybersecurity  \n",
      "3           Farming  \n",
      "4         Education  \n",
      "cleaned.\n"
     ]
    }
   ],
   "source": [
    "import pandas as pd\n",
    "\n",
    "def clean_data(file_path):\n",
    "    # Read file\n",
    "    df = pd.read_csv(file_path)\n",
    "    \n",
    "    # Drop duplicates\n",
    "    df = df.drop_duplicates()\n",
    "    \n",
    "    # remove all empty entries\n",
    "    df = df.dropna()\n",
    "    \n",
    "    # Reset indexes\n",
    "    df = df.reset_index(drop=True)\n",
    "\n",
    "    print(df.head())\n",
    "\n",
    "    return df\n",
    "\n",
    "kiosk_logins_placeholder_path = 'kiosk_logins_placeholder.csv'\n",
    "cleaned_event_attendance_path = 'cleaned_event_attendance.csv'\n",
    "cleaned_company_visits_path = 'cleaned_company_visits.csv'\n",
    "\n",
    "cleaned_kiosk_login_placeholder = clean_data(kiosk_logins_placeholder_path)\n",
    "cleaned_event_attendance = clean_data(cleaned_event_attendance_path)\n",
    "cleaned_company_visits = clean_data(cleaned_company_visits_path)\n",
    "\n",
    "cleaned_kiosk_login_placeholder.to_csv('cleaned_kiosk_login_placeholder.csv', index=False)\n",
    "cleaned_event_attendance.to_csv('cleaned_event_attendance.csv', index=False)\n",
    "cleaned_company_visits.to_csv('cleaned_company_visits.csv', index=False)\n",
    "\n",
    "\n",
    "print(\"cleaned.\")"
   ]
  },
  {
   "cell_type": "code",
   "execution_count": null,
   "metadata": {
    "vscode": {
     "languageId": "ruby"
    }
   },
   "outputs": [],
   "source": []
  }
 ],
 "metadata": {
  "kernelspec": {
   "display_name": "Python 3",
   "language": "python",
   "name": "python3"
  },
  "language_info": {
   "codemirror_mode": {
    "name": "ipython",
    "version": 3
   },
   "file_extension": ".py",
   "mimetype": "text/x-python",
   "name": "python",
   "nbconvert_exporter": "python",
   "pygments_lexer": "ipython3",
   "version": "3.13.1"
  }
 },
 "nbformat": 4,
 "nbformat_minor": 2
}
